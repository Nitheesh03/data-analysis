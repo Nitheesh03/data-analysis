{
 "cells": [
  {
   "cell_type": "code",
   "execution_count": 1,
   "id": "ed39f8d6",
   "metadata": {},
   "outputs": [
    {
     "data": {
      "text/plain": [
       "array([[0.15169301, 0.73170696, 0.55800006, 0.32114369, 0.57822091],\n",
       "       [0.11197413, 0.41483389, 0.88522591, 0.31799276, 0.82469694],\n",
       "       [0.13335639, 0.27145745, 0.38473906, 0.85551173, 0.89120308],\n",
       "       [0.38154901, 0.32090852, 0.3497898 , 0.90880422, 0.82180836],\n",
       "       [0.65914264, 0.58194171, 0.81151849, 0.98181569, 0.69497744]])"
      ]
     },
     "execution_count": 1,
     "metadata": {},
     "output_type": "execute_result"
    }
   ],
   "source": [
    "import numpy as np\n",
    "x = np.random.random((5,5))\n",
    "x"
   ]
  },
  {
   "cell_type": "code",
   "execution_count": 2,
   "id": "4555f471",
   "metadata": {},
   "outputs": [],
   "source": [
    "np.save('2d_array',x)\n"
   ]
  },
  {
   "cell_type": "code",
   "execution_count": 3,
   "id": "f03c6861",
   "metadata": {
    "scrolled": true
   },
   "outputs": [
    {
     "data": {
      "text/plain": [
       "array([[0.15169301, 0.73170696, 0.55800006, 0.32114369, 0.57822091],\n",
       "       [0.11197413, 0.41483389, 0.88522591, 0.31799276, 0.82469694],\n",
       "       [0.13335639, 0.27145745, 0.38473906, 0.85551173, 0.89120308],\n",
       "       [0.38154901, 0.32090852, 0.3497898 , 0.90880422, 0.82180836],\n",
       "       [0.65914264, 0.58194171, 0.81151849, 0.98181569, 0.69497744]])"
      ]
     },
     "execution_count": 3,
     "metadata": {},
     "output_type": "execute_result"
    }
   ],
   "source": [
    "loaded_array=np.load('2d_array.npy')\n",
    "loaded_array"
   ]
  },
  {
   "cell_type": "code",
   "execution_count": 4,
   "id": "96060a49",
   "metadata": {},
   "outputs": [
    {
     "ename": "NameError",
     "evalue": "name 'excel' is not defined",
     "output_type": "error",
     "traceback": [
      "\u001b[1;31m---------------------------------------------------------------------------\u001b[0m",
      "\u001b[1;31mNameError\u001b[0m                                 Traceback (most recent call last)",
      "\u001b[1;32m~\\AppData\\Local\\Temp/ipykernel_7576/3807001790.py\u001b[0m in \u001b[0;36m<module>\u001b[1;34m\u001b[0m\n\u001b[1;32m----> 1\u001b[1;33m \u001b[0mexcel\u001b[0m\u001b[1;33m.\u001b[0m\u001b[0mcsv\u001b[0m\u001b[1;33m.\u001b[0m\u001b[0mcsv\u001b[0m\u001b[1;33m\u001b[0m\u001b[1;33m\u001b[0m\u001b[0m\n\u001b[0m",
      "\u001b[1;31mNameError\u001b[0m: name 'excel' is not defined"
     ]
    }
   ],
   "source": [
    "excel.csv.csv\n"
   ]
  },
  {
   "cell_type": "code",
   "execution_count": 5,
   "id": "1e761ab1",
   "metadata": {},
   "outputs": [
    {
     "ename": "NameError",
     "evalue": "name 'demo' is not defined",
     "output_type": "error",
     "traceback": [
      "\u001b[1;31m---------------------------------------------------------------------------\u001b[0m",
      "\u001b[1;31mNameError\u001b[0m                                 Traceback (most recent call last)",
      "\u001b[1;32m~\\AppData\\Local\\Temp/ipykernel_7576/4280180843.py\u001b[0m in \u001b[0;36m<module>\u001b[1;34m\u001b[0m\n\u001b[1;32m----> 1\u001b[1;33m \u001b[0mdemo\u001b[0m\u001b[1;33m.\u001b[0m\u001b[0mcsv\u001b[0m\u001b[1;33m\u001b[0m\u001b[1;33m\u001b[0m\u001b[0m\n\u001b[0m",
      "\u001b[1;31mNameError\u001b[0m: name 'demo' is not defined"
     ]
    }
   ],
   "source": [
    "demo.csv\n"
   ]
  },
  {
   "cell_type": "code",
   "execution_count": 8,
   "id": "c2b4f92e",
   "metadata": {},
   "outputs": [
    {
     "ename": "AttributeError",
     "evalue": "module 'numpy' has no attribute 'genfromtext'",
     "output_type": "error",
     "traceback": [
      "\u001b[1;31m---------------------------------------------------------------------------\u001b[0m",
      "\u001b[1;31mAttributeError\u001b[0m                            Traceback (most recent call last)",
      "\u001b[1;32m~\\AppData\\Local\\Temp/ipykernel_7576/4133791323.py\u001b[0m in \u001b[0;36m<module>\u001b[1;34m\u001b[0m\n\u001b[1;32m----> 1\u001b[1;33m \u001b[0mdata\u001b[0m\u001b[1;33m=\u001b[0m\u001b[0mnp\u001b[0m\u001b[1;33m.\u001b[0m\u001b[0mgenfromtext\u001b[0m\u001b[1;33m(\u001b[0m\u001b[1;34m'demo.csv'\u001b[0m\u001b[1;33m,\u001b[0m\u001b[0mdelimiter\u001b[0m\u001b[1;33m=\u001b[0m\u001b[1;34m','\u001b[0m\u001b[1;33m,\u001b[0m\u001b[0mnames\u001b[0m\u001b[1;33m=\u001b[0m\u001b[1;32mTrue\u001b[0m\u001b[1;33m)\u001b[0m\u001b[1;33m\u001b[0m\u001b[1;33m\u001b[0m\u001b[0m\n\u001b[0m\u001b[0;32m      2\u001b[0m \u001b[0mdata\u001b[0m\u001b[1;33m\u001b[0m\u001b[1;33m\u001b[0m\u001b[0m\n",
      "\u001b[1;32m~\\anaconda3\\lib\\site-packages\\numpy\\__init__.py\u001b[0m in \u001b[0;36m__getattr__\u001b[1;34m(attr)\u001b[0m\n\u001b[0;32m    301\u001b[0m                 \u001b[1;32mreturn\u001b[0m \u001b[0mTester\u001b[0m\u001b[1;33m\u001b[0m\u001b[1;33m\u001b[0m\u001b[0m\n\u001b[0;32m    302\u001b[0m \u001b[1;33m\u001b[0m\u001b[0m\n\u001b[1;32m--> 303\u001b[1;33m             raise AttributeError(\"module {!r} has no attribute \"\n\u001b[0m\u001b[0;32m    304\u001b[0m                                  \"{!r}\".format(__name__, attr))\n\u001b[0;32m    305\u001b[0m \u001b[1;33m\u001b[0m\u001b[0m\n",
      "\u001b[1;31mAttributeError\u001b[0m: module 'numpy' has no attribute 'genfromtext'"
     ]
    }
   ],
   "source": [
    "data=np.genfromtext('demo.csv',delimiter=',',names=True)\n",
    "data"
   ]
  },
  {
   "cell_type": "code",
   "execution_count": 11,
   "id": "91595889",
   "metadata": {
    "scrolled": false
   },
   "outputs": [
    {
     "ename": "IndentationError",
     "evalue": "expected an indented block (Temp/ipykernel_7576/1326997479.py, line 3)",
     "output_type": "error",
     "traceback": [
      "\u001b[1;36m  File \u001b[1;32m\"C:\\Users\\dbzna\\AppData\\Local\\Temp/ipykernel_7576/1326997479.py\"\u001b[1;36m, line \u001b[1;32m3\u001b[0m\n\u001b[1;33m    csvFile=csv.reader(file)\u001b[0m\n\u001b[1;37m    ^\u001b[0m\n\u001b[1;31mIndentationError\u001b[0m\u001b[1;31m:\u001b[0m expected an indented block\n"
     ]
    }
   ],
   "source": [
    "import csv\n",
    "with open('demo.csv', mode='r')as fl= float(input(\"enter length in mtre\")):\n",
    "csvFile=csv.reader(file)\n",
    "for lines in csvFile:\n",
    "    print(lines)\n"
   ]
  },
  {
   "cell_type": "code",
   "execution_count": 13,
   "id": "0533a30e",
   "metadata": {},
   "outputs": [
    {
     "name": "stdout",
     "output_type": "stream",
     "text": [
      "enter a positive number= 8\n",
      "The sum of all numbers till n is = 36.0\n"
     ]
    }
   ],
   "source": [
    "n=int(input(\"enter a positive number= \"))\n",
    "s=(n*(n+1))/2\n",
    "print(\"The sum of all numbers till n is =\",s)"
   ]
  },
  {
   "cell_type": "code",
   "execution_count": 14,
   "id": "2d81fdf4",
   "metadata": {},
   "outputs": [
    {
     "name": "stdout",
     "output_type": "stream",
     "text": [
      "enter length in metre= 6\n",
      "enter width in metre= 76\n",
      "The area is 456.0 m\n"
     ]
    }
   ],
   "source": [
    "l=float(input(\"enter length in metre= \"))\n",
    "b=float(input(\"enter width in metre= \"))\n",
    "area=l*b\n",
    "print(\"The area is\",area,\"m\")\n"
   ]
  },
  {
   "cell_type": "code",
   "execution_count": 15,
   "id": "bbc6c79b",
   "metadata": {},
   "outputs": [
    {
     "data": {
      "text/plain": [
       "array([1, 3, 5, 7, 9])"
      ]
     },
     "execution_count": 15,
     "metadata": {},
     "output_type": "execute_result"
    }
   ],
   "source": [
    "import numpy as np\n",
    "a=np.arange(start=1,stop=10,step=2)\n",
    "a"
   ]
  },
  {
   "cell_type": "code",
   "execution_count": 16,
   "id": "ea87a883",
   "metadata": {},
   "outputs": [
    {
     "data": {
      "text/plain": [
       "''"
      ]
     },
     "execution_count": 16,
     "metadata": {},
     "output_type": "execute_result"
    }
   ],
   "source": [
    "a = np.array(\"Annie,Bose,Christina,David,Estella,Fred,Gwen,Harry,Damon,Stefan\".split(','))\n",
    "b= list(np.array(('D2,'*10).split(',')))\n",
    "mark1 =  np.random.randint(100,size=(10,))\n",
    "mark2 =  np.random.randint(100,size=(10,))\n",
    "mark3 =  np.random.randint(100,size=(10,))\n",
    "b.pop()"
   ]
  },
  {
   "cell_type": "code",
   "execution_count": 17,
   "id": "2427064c",
   "metadata": {},
   "outputs": [
    {
     "data": {
      "text/plain": [
       "array([[['Annie', 'Bose', 'Christina', 'David', 'Estella', 'Fred',\n",
       "         'Gwen', 'Harry', 'Damon', 'Stefan']],\n",
       "\n",
       "       [['D2', 'D2', 'D2', 'D2', 'D2', 'D2', 'D2', 'D2', 'D2', 'D2']],\n",
       "\n",
       "       [['97', '38', '61', '25', '29', '49', '44', '33', '56', '22']],\n",
       "\n",
       "       [['25', '18', '45', '53', '83', '59', '87', '63', '96', '96']],\n",
       "\n",
       "       [['94', '30', '80', '91', '52', '99', '44', '59', '62', '94']]],\n",
       "      dtype='<U11')"
      ]
     },
     "execution_count": 17,
     "metadata": {},
     "output_type": "execute_result"
    }
   ],
   "source": [
    "data = np.array([[a],[b],[mark1],[mark2],[mark3]])\n",
    "data\n"
   ]
  },
  {
   "cell_type": "code",
   "execution_count": 18,
   "id": "588e88b9",
   "metadata": {},
   "outputs": [
    {
     "data": {
      "text/plain": [
       "array([['Annie', 'D2', '97', '25', '94'],\n",
       "       ['Bose', 'D2', '38', '18', '30'],\n",
       "       ['Christina', 'D2', '61', '45', '80'],\n",
       "       ['David', 'D2', '25', '53', '91'],\n",
       "       ['Estella', 'D2', '29', '83', '52'],\n",
       "       ['Fred', 'D2', '49', '59', '99'],\n",
       "       ['Gwen', 'D2', '44', '87', '44'],\n",
       "       ['Harry', 'D2', '33', '63', '59'],\n",
       "       ['Damon', 'D2', '56', '96', '62'],\n",
       "       ['Stefan', 'D2', '22', '96', '94']], dtype='<U11')"
      ]
     },
     "execution_count": 18,
     "metadata": {},
     "output_type": "execute_result"
    }
   ],
   "source": [
    "data_n = data.reshape(5,10)\n",
    "data_n.T\n"
   ]
  },
  {
   "cell_type": "code",
   "execution_count": 19,
   "id": "a0514975",
   "metadata": {},
   "outputs": [],
   "source": [
    "csv_rows = [\"{},{},{},{},{}\".format(i, j, k,m,n) for i, j, k, m, n in data_n.T]\n",
    "csv_text = \"\\n\".join(csv_rows)\n",
    "\n",
    "with open('sample.csv', 'w') as f:\n",
    "    f.write(csv_text)\n",
    "    "
   ]
  },
  {
   "cell_type": "code",
   "execution_count": 20,
   "id": "d9ec86a3",
   "metadata": {},
   "outputs": [],
   "source": [
    "with open('sample.csv','r') as f:\n",
    "    txt  = f.readlines()"
   ]
  },
  {
   "cell_type": "code",
   "execution_count": 21,
   "id": "f2b1ad9a",
   "metadata": {},
   "outputs": [
    {
     "data": {
      "text/plain": [
       "array([['Bose', 'D2', '38', '18', '30'],\n",
       "       ['Christina', 'D2', '61', '45', '80'],\n",
       "       ['David', 'D2', '25', '53', '91'],\n",
       "       ['Estella', 'D2', '29', '83', '52'],\n",
       "       ['Fred', 'D2', '49', '59', '99'],\n",
       "       ['Gwen', 'D2', '44', '87', '44'],\n",
       "       ['Harry', 'D2', '33', '63', '59'],\n",
       "       ['Damon', 'D2', '56', '96', '62'],\n",
       "       ['Stefan', 'D2', '22', '96', '94']], dtype='<U9')"
      ]
     },
     "execution_count": 21,
     "metadata": {},
     "output_type": "execute_result"
    }
   ],
   "source": [
    "data = np.genfromtxt('sample.csv',delimiter=\",\",skip_header=True,dtype =str)\n",
    "data"
   ]
  },
  {
   "cell_type": "code",
   "execution_count": null,
   "id": "451f7bee",
   "metadata": {},
   "outputs": [],
   "source": []
  }
 ],
 "metadata": {
  "kernelspec": {
   "display_name": "Python 3 (ipykernel)",
   "language": "python",
   "name": "python3"
  },
  "language_info": {
   "codemirror_mode": {
    "name": "ipython",
    "version": 3
   },
   "file_extension": ".py",
   "mimetype": "text/x-python",
   "name": "python",
   "nbconvert_exporter": "python",
   "pygments_lexer": "ipython3",
   "version": "3.9.7"
  }
 },
 "nbformat": 4,
 "nbformat_minor": 5
}
